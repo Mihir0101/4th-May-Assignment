{
 "cells": [
  {
   "cell_type": "markdown",
   "id": "89bdf0b9-6434-49f6-9ffe-c8a622cc885d",
   "metadata": {},
   "source": [
    "# 4th May Assignment"
   ]
  },
  {
   "cell_type": "code",
   "execution_count": null,
   "id": "75b78007-583a-4322-aabf-7e98f29ffe48",
   "metadata": {},
   "outputs": [],
   "source": []
  },
  {
   "cell_type": "markdown",
   "id": "db4ee5e9-888e-4daa-bd17-be15aba93123",
   "metadata": {},
   "source": [
    "## Q1. What is a time series, and what are some common applications of time series analysis?"
   ]
  },
  {
   "cell_type": "markdown",
   "id": "79ab8677-3d2b-43c9-8ad3-23481c268c09",
   "metadata": {},
   "source": [
    "Time series is a machine learning model, that helps us for forecasting.\n",
    "\n",
    "It uses the date column for forecastin.\n",
    "\n",
    "* Common Applications\n",
    "\n",
    "Financial Forecasting\n",
    "\n",
    "Demand Forecasting\n",
    "\n",
    "Price Forecasting\n",
    "\n",
    "Population Forecasting\n",
    "\n",
    "Environment Monitering"
   ]
  },
  {
   "cell_type": "code",
   "execution_count": null,
   "id": "37159c0f-1dda-458c-8e74-6835a4d3ee94",
   "metadata": {},
   "outputs": [],
   "source": []
  },
  {
   "cell_type": "markdown",
   "id": "e6bef887-a6fa-4740-8fe1-6abed741b4ba",
   "metadata": {},
   "source": [
    "## Q2. What are some common time series patterns, and how can they be identified and interpreted?"
   ]
  },
  {
   "cell_type": "markdown",
   "id": "5662b7c1-2b12-46ad-81ea-910c64a6ff53",
   "metadata": {},
   "source": [
    "1. Trend\n",
    "\n",
    "2. Season\n",
    "\n",
    "3. Cycle\n",
    "\n",
    "4. Noise\n",
    "\n",
    "* How can they be identified?\n",
    "\n",
    "1. Trend \n",
    "\n",
    "Identification - It is long term movement in data, indecating directions like upward,horizontal,downward.\n",
    "\n",
    "Interpretation - A rising trend suggests growth or increasing values, while a declining trend indicates a decrease over time.\n",
    "\n",
    "2. Season \n",
    "\n",
    "Identification - Frequent repeatation.\n",
    "\n",
    "Interpretation - It repeats over small time period like hour,days,weeks,month or year.\n",
    "\n",
    "3. Cycle \n",
    "\n",
    "Identification - Long term fluctuation  in data that do not have fixed periods.\n",
    "\n",
    "Interpretation - It is associated with non-regular patterns.\n",
    "\n",
    "4. Noise \n",
    "\n",
    "Identification - Randomness or error.\n",
    "\n",
    "Interpretation - Noise represents the unpredictable and uncontrollable factors affecting the time series."
   ]
  },
  {
   "cell_type": "code",
   "execution_count": null,
   "id": "e6014f1c-2c92-473c-8ffe-2bc7445e63d7",
   "metadata": {},
   "outputs": [],
   "source": []
  },
  {
   "cell_type": "markdown",
   "id": "13eb0bb5-3178-4908-8680-17e252f02fc7",
   "metadata": {},
   "source": [
    "## Q3. How can time series data be preprocessed before applying analysis techniques?"
   ]
  },
  {
   "cell_type": "markdown",
   "id": "9530c504-d7d2-4b60-94d2-585d360f028c",
   "metadata": {},
   "source": [
    "It can be preprocessed by this tasks :\n",
    "\n",
    "Removing Outliers\n",
    "\n",
    "Removing Missing Values\n",
    "\n",
    "Converting the non-stationary data into stationary\n",
    "\n",
    "Smoothing\n",
    "\n",
    "Normalization"
   ]
  },
  {
   "cell_type": "code",
   "execution_count": null,
   "id": "a7ec1d3d-75a9-4d6d-acef-c480b90a67fe",
   "metadata": {},
   "outputs": [],
   "source": []
  },
  {
   "cell_type": "markdown",
   "id": "135f2b1e-5f90-49c7-a399-f309410a9a34",
   "metadata": {},
   "source": [
    "## Q4. How can time series forecasting be used in business decision-making, and what are some common challenges and limitations?"
   ]
  },
  {
   "cell_type": "markdown",
   "id": "6dd75b66-3081-4726-b172-5eb8519f30ed",
   "metadata": {},
   "source": [
    "* Applications in Business Decision-Making:\n",
    "\n",
    "Demand Forecasting\n",
    "\n",
    "Financial Planning\n",
    "\n",
    "Marketing Strategy\n",
    "\n",
    "Stock and inventory management\n",
    "\n",
    "* Challenges and Limitations:\n",
    "\n",
    "Poor quality data can be affect forecasting accuracy.\n",
    "\n",
    "Choosign and implementing right forecasting model can be chalanging.\n",
    "\n",
    "External factors, such as economic changes, market dynamics, or unexpected events, can significantly impact the accuracy of forecasts.\n",
    "\n",
    "Balancing the complexity of a model is crucial. Overly complex models may fit the training data too closely, while overly simplistic models may fail to capture important patterns."
   ]
  },
  {
   "cell_type": "code",
   "execution_count": null,
   "id": "301acaca-9d83-480a-aad1-91b3605d3ab5",
   "metadata": {},
   "outputs": [],
   "source": []
  },
  {
   "cell_type": "markdown",
   "id": "b32be0c8-70e9-41db-a1c9-b78e68f3bc17",
   "metadata": {},
   "source": [
    "## Q5. What is ARIMA modelling, and how can it be used to forecast time series data?"
   ]
  },
  {
   "cell_type": "markdown",
   "id": "ff5c07f5-79ad-41e9-8e50-b3566c947c9e",
   "metadata": {},
   "source": [
    "ARIMA modelling forecasts the data based on previos data.\n",
    "\n",
    "It is a combination of auto regression,differencing and moving average.\n",
    "\n",
    "* Steps:\n",
    "\n",
    "1. Stationary Check\n",
    "\n",
    "2. Differencing\n",
    "\n",
    "3. ACF and PACF\n",
    "\n",
    "4. Lag Selection\n",
    "\n",
    "5. Model Estimation\n",
    "\n",
    "6. Model Diagnostics\n",
    "\n",
    "7. Forecasting"
   ]
  },
  {
   "cell_type": "code",
   "execution_count": null,
   "id": "8b2c55f5-a307-4788-b84e-776ce595fc67",
   "metadata": {},
   "outputs": [],
   "source": []
  },
  {
   "cell_type": "markdown",
   "id": "aab1e545-1e5d-4e75-a446-5a719065b596",
   "metadata": {},
   "source": [
    "## Q6. How do Autocorrelation Function (ACF) and Partial Autocorrelation Function (PACF) plots help in identifying the order of ARIMA models?"
   ]
  },
  {
   "cell_type": "markdown",
   "id": "d496e25d-8777-4a00-8d7b-e22376f945f0",
   "metadata": {},
   "source": [
    "There is a parameter in ARIMA Model name order requirs the optimal lag value for model.\n",
    "\n",
    "ACF and PACF are a correlation methods that help to find the optimal lag value.\n",
    "\n",
    "ACF specifically used for moving average and PACF is used for auto regression."
   ]
  },
  {
   "cell_type": "code",
   "execution_count": null,
   "id": "b87c5595-f463-4fca-98e0-f242316f9b00",
   "metadata": {},
   "outputs": [],
   "source": []
  },
  {
   "cell_type": "markdown",
   "id": "c43ef5b8-4724-4822-816d-e7523d2f6d28",
   "metadata": {},
   "source": [
    "## Q7. What are the assumptions of ARIMA models, and how can they be tested for in practice?"
   ]
  },
  {
   "cell_type": "markdown",
   "id": "99465cc3-6606-4f19-af85-6c45ee4b869f",
   "metadata": {},
   "source": [
    "1. Stationarity:\n",
    "\n",
    "Assumption: ARIMA assumes that the time series is stationary, meaning that its statistical properties, such as mean and variance, do not change over time.\n",
    "\n",
    "Testing in Practice: Conduct a stationarity check using statistical tests like the Augmented Dickey-Fuller (ADF) test. If the series is not stationary, differencing can be applied until stationarity is achieved.\n",
    "\n",
    "2. Normality of Residuals:\n",
    "\n",
    "Assumption: Residuals should be normally distributed.\n",
    "Testing in Practice: Perform statistical tests, such as the Jarque-Bera test or visual inspections like a histogram or Q-Q plot, to assess the normality of residuals. Transformations or adjustments may be needed if residuals are not normally distributed."
   ]
  },
  {
   "cell_type": "code",
   "execution_count": null,
   "id": "9d0935dd-c328-43d8-9e79-8561a41fdf6b",
   "metadata": {},
   "outputs": [],
   "source": []
  },
  {
   "cell_type": "markdown",
   "id": "b392001d-54e0-4c54-b608-f53b4f4368fd",
   "metadata": {},
   "source": [
    "## Q8. Suppose you have monthly sales data for a retail store for the past three years. Which type of time series model would you recommend for forecasting future sales, and why?"
   ]
  },
  {
   "cell_type": "markdown",
   "id": "ecb1e615-2092-4418-9738-49fe6a6e5ea5",
   "metadata": {},
   "source": [
    "First of all I will check some factors in data, like does data contains seasonality or noise.\n",
    "\n",
    "If data doesn't contains seasonality or noise, so I will choose ARIMA.\n",
    "\n",
    "If data contains only seasonality, so I will choose SARIMA.\n",
    "\n",
    "If data contains seasonality and noise both, so I will choose SARIMAX."
   ]
  },
  {
   "cell_type": "code",
   "execution_count": null,
   "id": "18259253-680c-4b9a-b589-175c1d62f2db",
   "metadata": {},
   "outputs": [],
   "source": []
  },
  {
   "cell_type": "markdown",
   "id": "16577246-dd3b-49bc-a876-482713b5f708",
   "metadata": {},
   "source": [
    "## Q9. What are some of the limitations of time series analysis? Provide an example of a scenario where the limitations of time series analysis may be particularly relevant."
   ]
  },
  {
   "cell_type": "markdown",
   "id": "b6405dde-1d00-4c4b-b083-d9d799a5ac96",
   "metadata": {},
   "source": [
    "* Limitations:\n",
    "\n",
    "It can be sensitive to outliers.\n",
    "\n",
    "Many time series models assume stationarity, but real-world data may exhibit non-stationary behavior.\n",
    "\n",
    "Time series models are generally better suited for short- to medium-term predictions. The accuracy of forecasts tends to decrease as the prediction horizon extends further into the future.\n",
    "\n",
    "Time series analysis may struggle to capture and model complex relationships.\n",
    "\n",
    "* Example:\n",
    "\n",
    "Consider a retail business that experienced a sudden and significant increase in sales due to an unexpected event, such as a viral social media campaign or a celebrity endorsement. Traditional time series models might not capture the rapid change in consumer behavior accurately. The surge in sales may be considered an outlier, and models trained on historical data may not be able to adapt quickly to the new normal."
   ]
  },
  {
   "cell_type": "code",
   "execution_count": null,
   "id": "3f4bdb11-af59-4cd6-95f1-50e9c6fa28f6",
   "metadata": {},
   "outputs": [],
   "source": []
  },
  {
   "cell_type": "markdown",
   "id": "28e3dd57-5499-4d0b-8c99-91377534a3c9",
   "metadata": {},
   "source": [
    "## Q10. Explain the difference between a stationary and non-stationary time series. How does the stationarity of a time series affect the choice of forecasting model?"
   ]
  },
  {
   "cell_type": "markdown",
   "id": "4a85b911-037a-4266-bf92-a6f5131b4228",
   "metadata": {},
   "source": [
    "* Difference\n",
    "\n",
    "Non-Stationary - Moving average and variance are not constant over the time.\n",
    "\n",
    "Stationary - Moving average and variance are constant over the time.\n",
    "\n",
    "* How does the time series"
   ]
  }
 ],
 "metadata": {
  "kernelspec": {
   "display_name": "Python 3 (ipykernel)",
   "language": "python",
   "name": "python3"
  },
  "language_info": {
   "codemirror_mode": {
    "name": "ipython",
    "version": 3
   },
   "file_extension": ".py",
   "mimetype": "text/x-python",
   "name": "python",
   "nbconvert_exporter": "python",
   "pygments_lexer": "ipython3",
   "version": "3.10.8"
  }
 },
 "nbformat": 4,
 "nbformat_minor": 5
}
